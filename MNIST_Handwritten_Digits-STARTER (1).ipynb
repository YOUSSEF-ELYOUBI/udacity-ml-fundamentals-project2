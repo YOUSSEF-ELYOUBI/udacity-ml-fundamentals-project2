{
 "cells": [
  {
   "cell_type": "markdown",
   "metadata": {},
   "source": [
    "# Introduction\n",
    "\n",
    "In this project, you will build a neural network of your own design to evaluate the MNIST dataset.\n",
    "\n",
    "Some of the benchmark results on MNIST include can be found [on Yann LeCun's page](https://webcache.googleusercontent.com/search?q=cache:stAVPik6onEJ:yann.lecun.com/exdb/mnist) and include:\n",
    "\n",
    "88% [Lecun et al., 1998](https://hal.science/hal-03926082/document)\n",
    "\n",
    "95.3% [Lecun et al., 1998](https://hal.science/hal-03926082v1/document)\n",
    "\n",
    "99.65% [Ciresan et al., 2011](http://people.idsia.ch/~juergen/ijcai2011.pdf)\n",
    "\n",
    "\n",
    "MNIST is a great dataset for sanity checking your models, since the accuracy levels achieved by large convolutional neural networks and small linear models are both quite high. This makes it important to be familiar with the data.\n",
    "\n",
    "## Installation"
   ]
  },
  {
   "cell_type": "code",
   "execution_count": 1,
   "metadata": {},
   "outputs": [
    {
     "name": "stdout",
     "output_type": "stream",
     "text": [
      "Defaulting to user installation because normal site-packages is not writeable\n",
      "Collecting ipywidgets==8.1.5\n",
      "  Downloading ipywidgets-8.1.5-py3-none-any.whl (139 kB)\n",
      "\u001b[K     |████████████████████████████████| 139 kB 2.9 MB/s eta 0:00:01\n",
      "\u001b[?25hCollecting comm>=0.1.3\n",
      "  Downloading comm-0.1.4-py3-none-any.whl (6.6 kB)\n",
      "Requirement already satisfied: traitlets>=4.3.1 in /opt/conda/lib/python3.7/site-packages (from ipywidgets==8.1.5->-r requirements.txt (line 1)) (4.3.3)\n",
      "Collecting jupyterlab-widgets~=3.0.12\n",
      "  Downloading jupyterlab_widgets-3.0.15-py3-none-any.whl (216 kB)\n",
      "\u001b[K     |████████████████████████████████| 216 kB 28.4 MB/s eta 0:00:01\n",
      "\u001b[?25hCollecting widgetsnbextension~=4.0.12\n",
      "  Downloading widgetsnbextension-4.0.14-py3-none-any.whl (2.2 MB)\n",
      "\u001b[K     |████████████████████████████████| 2.2 MB 49.1 MB/s eta 0:00:01\n",
      "\u001b[?25hRequirement already satisfied: ipython>=6.1.0 in /opt/conda/lib/python3.7/site-packages (from ipywidgets==8.1.5->-r requirements.txt (line 1)) (7.13.0)\n",
      "Requirement already satisfied: decorator in /opt/conda/lib/python3.7/site-packages (from traitlets>=4.3.1->ipywidgets==8.1.5->-r requirements.txt (line 1)) (4.4.2)\n",
      "Requirement already satisfied: six in /opt/conda/lib/python3.7/site-packages (from traitlets>=4.3.1->ipywidgets==8.1.5->-r requirements.txt (line 1)) (1.16.0)\n",
      "Requirement already satisfied: ipython-genutils in /opt/conda/lib/python3.7/site-packages (from traitlets>=4.3.1->ipywidgets==8.1.5->-r requirements.txt (line 1)) (0.2.0)\n",
      "Requirement already satisfied: setuptools>=18.5 in /opt/conda/lib/python3.7/site-packages (from ipython>=6.1.0->ipywidgets==8.1.5->-r requirements.txt (line 1)) (45.2.0.post20200209)\n",
      "Requirement already satisfied: prompt-toolkit!=3.0.0,!=3.0.1,<3.1.0,>=2.0.0 in /opt/conda/lib/python3.7/site-packages (from ipython>=6.1.0->ipywidgets==8.1.5->-r requirements.txt (line 1)) (3.0.3)\n",
      "Requirement already satisfied: pickleshare in /opt/conda/lib/python3.7/site-packages (from ipython>=6.1.0->ipywidgets==8.1.5->-r requirements.txt (line 1)) (0.7.5)\n",
      "Requirement already satisfied: backcall in /opt/conda/lib/python3.7/site-packages (from ipython>=6.1.0->ipywidgets==8.1.5->-r requirements.txt (line 1)) (0.1.0)\n",
      "Requirement already satisfied: pexpect; sys_platform != \"win32\" in /opt/conda/lib/python3.7/site-packages (from ipython>=6.1.0->ipywidgets==8.1.5->-r requirements.txt (line 1)) (4.8.0)\n",
      "Requirement already satisfied: jedi>=0.10 in /opt/conda/lib/python3.7/site-packages (from ipython>=6.1.0->ipywidgets==8.1.5->-r requirements.txt (line 1)) (0.16.0)\n",
      "Requirement already satisfied: pygments in /opt/conda/lib/python3.7/site-packages (from ipython>=6.1.0->ipywidgets==8.1.5->-r requirements.txt (line 1)) (2.5.2)\n",
      "Requirement already satisfied: wcwidth in /opt/conda/lib/python3.7/site-packages (from prompt-toolkit!=3.0.0,!=3.0.1,<3.1.0,>=2.0.0->ipython>=6.1.0->ipywidgets==8.1.5->-r requirements.txt (line 1)) (0.1.8)\n",
      "Requirement already satisfied: ptyprocess>=0.5 in /opt/conda/lib/python3.7/site-packages (from pexpect; sys_platform != \"win32\"->ipython>=6.1.0->ipywidgets==8.1.5->-r requirements.txt (line 1)) (0.6.0)\n",
      "Requirement already satisfied: parso>=0.5.2 in /opt/conda/lib/python3.7/site-packages (from jedi>=0.10->ipython>=6.1.0->ipywidgets==8.1.5->-r requirements.txt (line 1)) (0.6.1)\n",
      "Installing collected packages: comm, jupyterlab-widgets, widgetsnbextension, ipywidgets\n",
      "Successfully installed comm-0.1.4 ipywidgets-8.1.5 jupyterlab-widgets-3.0.15 widgetsnbextension-4.0.14\n"
     ]
    }
   ],
   "source": [
    "# Restart the Kernel after you execute this command.\n",
    "\n",
    "!python -m pip install -r requirements.txt"
   ]
  },
  {
   "cell_type": "markdown",
   "metadata": {},
   "source": [
    "**Important: Restart the Kernel at this moment**"
   ]
  },
  {
   "cell_type": "markdown",
   "metadata": {},
   "source": [
    "## Imports"
   ]
  },
  {
   "cell_type": "code",
   "execution_count": 1,
   "metadata": {},
   "outputs": [],
   "source": [
    "## This cell contains the essential imports you will need – DO NOT CHANGE THE CONTENTS! ##\n",
    "import torch\n",
    "import torch.nn as nn\n",
    "import torch.nn.functional as F\n",
    "import torch.optim as optim\n",
    "import torchvision\n",
    "import torchvision.transforms as transforms\n",
    "import matplotlib.pyplot as plt\n",
    "import numpy as np"
   ]
  },
  {
   "cell_type": "markdown",
   "metadata": {},
   "source": [
    "## Load the Dataset\n",
    "\n",
    "Specify your transforms as a list if you intend to .\n",
    "The transforms module is already loaded as `transforms`.\n",
    "\n",
    "MNIST is fortunately included in the torchvision module.\n",
    "Then, you can create your dataset using the `MNIST` object from `torchvision.datasets` ([the documentation is available here](https://pytorch.org/vision/stable/datasets.html#mnist)).\n",
    "Make sure to specify `download=True`! \n",
    "\n",
    "Once your dataset is created, you'll also need to define a `DataLoader` from the `torch.utils.data` module for both the train and the test set."
   ]
  },
  {
   "cell_type": "code",
   "execution_count": 2,
   "metadata": {},
   "outputs": [
    {
     "name": "stderr",
     "output_type": "stream",
     "text": [
      "/opt/conda/lib/python3.7/site-packages/torchvision/datasets/mnist.py:498: UserWarning: The given NumPy array is not writable, and PyTorch does not support non-writable tensors. This means writing to this tensor will result in undefined behavior. You may want to copy the array to protect its data or make it writable before converting it to a tensor. This type of warning will be suppressed for the rest of this program. (Triggered internally at  ../torch/csrc/utils/tensor_numpy.cpp:178.)\n",
      "  return torch.from_numpy(parsed.astype(m[2], copy=False)).view(*s)\n"
     ]
    }
   ],
   "source": [
    "# Define transforms\n",
    "## YOUR CODE HERE ##\n",
    "mnist_transforms = transforms.Compose([\n",
    "    transforms.ToTensor(), # Converts a PIL Image or numpy.ndarray to tensor and scales images to [0.0, 1.0]\n",
    "    transforms.Normalize((0.1307,), (0.3081,)) # MNIST specific normalization mean and std\n",
    "])\n",
    "\n",
    "# Create training set and define training dataloader\n",
    "## YOUR CODE HERE ##\n",
    "train_dataset = torchvision.datasets.MNIST(\n",
    "    root='./data',\n",
    "    train=True,\n",
    "    download=True,\n",
    "    transform=mnist_transforms\n",
    ")\n",
    "train_loader = torch.utils.data.DataLoader(\n",
    "    train_dataset,\n",
    "    batch_size=64, # Common batch size for training\n",
    "    shuffle=True   # Shuffle training data to ensure model doesn't learn order\n",
    ")\n",
    "\n",
    "# Create test set and define test dataloader\n",
    "## YOUR CODE HERE ##\n",
    "test_dataset = torchvision.datasets.MNIST(\n",
    "    root='./data',\n",
    "    train=False,\n",
    "    download=True,\n",
    "    transform=mnist_transforms\n",
    ")\n",
    "test_loader = torch.utils.data.DataLoader(\n",
    "    test_dataset,\n",
    "    batch_size=1000, # Larger batch size for testing is often fine and faster\n",
    "    shuffle=False  # No need to shuffle test data\n",
    ")"
   ]
  },
  {
   "cell_type": "markdown",
   "metadata": {},
   "source": [
    "## Justify your preprocessing\n",
    "\n",
    "In your own words, why did you choose the transforms you chose? If you didn't use any preprocessing steps, why not?"
   ]
  },
  {
   "cell_type": "markdown",
   "metadata": {},
   "source": [
    "**DOUBLE CLICK THIS CELL TO MODIFY**"
   ]
  },
  {
   "cell_type": "markdown",
   "metadata": {},
   "source": [
    "## Explore the Dataset\n",
    "Using matplotlib, numpy, and torch, explore the dimensions of your data.\n",
    "\n",
    "You can view images using the `show5` function defined below – it takes a data loader as an argument.\n",
    "Remember that normalized images will look really weird to you! You may want to try changing your transforms to view images.\n",
    "Typically using no transforms other than `toTensor()` works well for viewing – but not as well for training your network.\n",
    "If `show5` doesn't work, go back and check your code for creating your data loaders and your training/test sets."
   ]
  },
  {
   "cell_type": "code",
   "execution_count": 3,
   "metadata": {},
   "outputs": [],
   "source": [
    "## This cell contains a function for showing 5 images from a dataloader – DO NOT CHANGE THE CONTENTS! ##\n",
    "def show5(img_loader):\n",
    "    dataiter = iter(img_loader)\n",
    "    \n",
    "    batch = next(dataiter)\n",
    "    labels = batch[1][0:5]\n",
    "    images = batch[0][0:5]\n",
    "    for i in range(5):\n",
    "        print(int(labels[i].detach()))\n",
    "    \n",
    "        image = images[i].numpy()\n",
    "        plt.imshow(image.T.squeeze().T)\n",
    "        plt.show()"
   ]
  },
  {
   "cell_type": "code",
   "execution_count": 4,
   "metadata": {},
   "outputs": [
    {
     "name": "stdout",
     "output_type": "stream",
     "text": [
      "Training dataset size: 60000\n",
      "Test dataset size: 10000\n",
      "Number of batches in train_loader: 938\n",
      "Number of batches in test_loader: 10\n",
      "\n",
      "Shape of a batch of images from train_loader: torch.Size([64, 1, 28, 28])\n",
      "Shape of a single image: torch.Size([1, 28, 28])\n",
      "Data type of images: torch.float32\n",
      "\n",
      "Shape of a batch of labels from train_loader: torch.Size([64])\n",
      "Shape of a single label: torch.Size([])\n",
      "Data type of labels: torch.int64\n",
      "\n",
      "Min and Max pixel values in the first normalized image: -0.4242129623889923, 2.821486711502075\n",
      "\n",
      "Showing 5 images from the training set (normalized as they go into the network):\n",
      "7\n"
     ]
    },
    {
     "data": {
      "image/png": "[encoded data removed]",
      "text/plain": [
       "<Figure size 432x288 with 1 Axes>"
      ]
     },
     "metadata": {
      "needs_background": "light"
     },
     "output_type": "display_data"
    },
    {
     "name": "stdout",
     "output_type": "stream",
     "text": [
      "9\n"
     ]
    },
    {
     "data": {
      "image/png": "[encoded data removed]",
      "text/plain": [
       "<Figure size 432x288 with 1 Axes>"
      ]
     },
     "metadata": {
      "needs_background": "light"
     },
     "output_type": "display_data"
    },
    {
     "name": "stdout",
     "output_type": "stream",
     "text": [
      "1\n"
     ]
    },
    {
     "data": {
      "image/png": "[encoded data removed]",
      "text/plain": [
       "<Figure size 432x288 with 1 Axes>"
      ]
     },
     "metadata": {
      "needs_background": "light"
     },
     "output_type": "display_data"
    },
    {
     "name": "stdout",
     "output_type": "stream",
     "text": [
      "7\n"
     ]
    },
    {
     "data": {
      "image/png": "[encoded data removed]",
      "text/plain": [
       "<Figure size 432x288 with 1 Axes>"
      ]
     },
     "metadata": {
      "needs_background": "light"
     },
     "output_type": "display_data"
    },
    {
     "name": "stdout",
     "output_type": "stream",
     "text": [
      "8\n"
     ]
    },
    {
     "data": {
      "image/png": "[encoded data removed]",
      "text/plain": [
       "<Figure size 432x288 with 1 Axes>"
      ]
     },
     "metadata": {
      "needs_background": "light"
     },
     "output_type": "display_data"
    },
    {
     "name": "stdout",
     "output_type": "stream",
     "text": [
      "\n",
      "Showing 5 images from the training set (only ToTensor applied for viewing, no normalization):\n",
      "Label: 0\n"
     ]
    },
    {
     "data": {
      "image/png": "[encoded data removed]",
      "text/plain": [
       "<Figure size 432x288 with 1 Axes>"
      ]
     },
     "metadata": {
      "needs_background": "light"
     },
     "output_type": "display_data"
    },
    {
     "name": "stdout",
     "output_type": "stream",
     "text": [
      "Label: 3\n"
     ]
    },
    {
     "data": {
      "image/png": "[encoded data removed]",
      "text/plain": [
       "<Figure size 432x288 with 1 Axes>"
      ]
     },
     "metadata": {
      "needs_background": "light"
     },
     "output_type": "display_data"
    },
    {
     "name": "stdout",
     "output_type": "stream",
     "text": [
      "Label: 7\n"
     ]
    },
    {
     "data": {
      "image/png": "[encoded data removed]",
      "text/plain": [
       "<Figure size 432x288 with 1 Axes>"
      ]
     },
     "metadata": {
      "needs_background": "light"
     },
     "output_type": "display_data"
    },
    {
     "name": "stdout",
     "output_type": "stream",
     "text": [
      "Label: 0\n"
     ]
    },
    {
     "data": {
      "image/png": "[encoded data removed]",
      "text/plain": [
       "<Figure size 432x288 with 1 Axes>"
      ]
     },
     "metadata": {
      "needs_background": "light"
     },
     "output_type": "display_data"
    },
    {
     "name": "stdout",
     "output_type": "stream",
     "text": [
      "Label: 5\n"
     ]
    },
    {
     "data": {
      "image/png": "[encoded data removed]",
      "text/plain": [
       "<Figure size 432x288 with 1 Axes>"
      ]
     },
     "metadata": {
      "needs_background": "light"
     },
     "output_type": "display_data"
    },
    {
     "name": "stdout",
     "output_type": "stream",
     "text": [
      "\n",
      "Unique labels in the training dataset: tensor([0, 1, 2, 3, 4, 5, 6, 7, 8, 9])\n",
      "Classes: ['0 - zero', '1 - one', '2 - two', '3 - three', '4 - four', '5 - five', '6 - six', '7 - seven', '8 - eight', '9 - nine']\n"
     ]
    }
   ],
   "source": [
    "# Explore data\n",
    "## YOUR CODE HERE ##\n",
    "# Explore data\n",
    "print(f\"Training dataset size: {len(train_dataset)}\")\n",
    "print(f\"Test dataset size: {len(test_dataset)}\")\n",
    "print(f\"Number of batches in train_loader: {len(train_loader)}\")\n",
    "print(f\"Number of batches in test_loader: {len(test_loader)}\")\n",
    "\n",
    "# Get one batch of training images to inspect shapes\n",
    "dataiter = iter(train_loader)\n",
    "images, labels = next(dataiter)\n",
    "\n",
    "print(f\"\\nShape of a batch of images from train_loader: {images.shape}\")\n",
    "# Expected: (batch_size, channels, height, width) -> (64, 1, 28, 28)\n",
    "print(f\"Shape of a single image: {images[0].shape}\")\n",
    "# Expected: (channels, height, width) -> (1, 28, 28)\n",
    "print(f\"Data type of images: {images.dtype}\")\n",
    "\n",
    "print(f\"\\nShape of a batch of labels from train_loader: {labels.shape}\")\n",
    "# Expected: (batch_size,) -> (64,)\n",
    "print(f\"Shape of a single label: {labels[0].shape}\")\n",
    "# Expected: () or torch.Size([]) for a scalar tensor\n",
    "print(f\"Data type of labels: {labels.dtype}\")\n",
    "\n",
    "print(f\"\\nMin and Max pixel values in the first normalized image: {images[0].min()}, {images[0].max()}\")\n",
    "\n",
    "print(\"\\nShowing 5 images from the training set (normalized as they go into the network):\")\n",
    "show5(train_loader)\n",
    "\n",
    "# To view images without normalization for better visual inspection (optional but good for understanding)\n",
    "view_transforms_unnormalized = transforms.Compose([\n",
    "    transforms.ToTensor() # Just convert to tensor, no normalization\n",
    "])\n",
    "view_train_dataset_unnormalized = torchvision.datasets.MNIST(\n",
    "    root='./data',\n",
    "    train=True,\n",
    "    download=False, # Should already be downloaded\n",
    "    transform=view_transforms_unnormalized\n",
    ")\n",
    "view_train_loader_unnormalized = torch.utils.data.DataLoader(\n",
    "    view_train_dataset_unnormalized,\n",
    "    batch_size=5, # We only need a few for viewing\n",
    "    shuffle=True\n",
    ")\n",
    "\n",
    "print(\"\\nShowing 5 images from the training set (only ToTensor applied for viewing, no normalization):\")\n",
    "# We need a slightly modified show5 or just directly plot if we want to un-normalize\n",
    "# For simplicity, let's just use show5 which will now show un-normalized images (scaled 0-1)\n",
    "\n",
    "def show5_unnormalized(img_loader): # Adjusted to show unnormalized images correctly\n",
    "    dataiter = iter(img_loader)\n",
    "    batch = next(dataiter)\n",
    "    labels = batch[1][0:5]\n",
    "    images = batch[0][0:5]\n",
    "    for i in range(5):\n",
    "        print(f\"Label: {int(labels[i].detach())}\")\n",
    "        image = images[i].numpy()\n",
    "        # Squeeze removes single-dimensional entries from the shape of an array.\n",
    "        # For MNIST, images are (1, 28, 28), squeeze makes it (28, 28) for imshow\n",
    "        plt.imshow(image.squeeze(), cmap='gray')\n",
    "        plt.title(f\"Label: {int(labels[i].detach())}\")\n",
    "        plt.show()\n",
    "\n",
    "show5_unnormalized(view_train_loader_unnormalized)\n",
    "\n",
    "# What are the unique classes/labels?\n",
    "print(f\"\\nUnique labels in the training dataset: {train_dataset.targets.unique()}\")\n",
    "print(f\"Classes: {train_dataset.classes}\")"
   ]
  },
  {
   "cell_type": "markdown",
   "metadata": {},
   "source": [
    "## Build your Neural Network\n",
    "Using the layers in `torch.nn` (which has been imported as `nn`) and the `torch.nn.functional` module (imported as `F`), construct a neural network based on the parameters of the dataset.\n",
    "Use any architecture you like. \n",
    "\n",
    "*Note*: If you did not flatten your tensors in your transforms or as part of your preprocessing and you are using only `Linear` layers, make sure to use the `Flatten` layer in your network!"
   ]
  },
  {
   "cell_type": "code",
   "execution_count": 5,
   "metadata": {},
   "outputs": [],
   "source": [
    "## YOUR CODE HERE ##\n",
    "class MNISTClassifier(nn.Module):\n",
    "    def __init__(self):\n",
    "        super(MNISTClassifier, self).__init__()\n",
    "        # MNIST images are 28x28 pixels.\n",
    "        # When flattened, they become a vector of 28*28 = 784 features.\n",
    "        self.flatten = nn.Flatten()\n",
    "        self.fc1 = nn.Linear(28*28, 128) # First hidden layer: 784 input features, 128 output features\n",
    "        self.relu1 = nn.ReLU()           # Activation function for the first hidden layer\n",
    "        self.dropout1 = nn.Dropout(0.25) # Dropout for regularization\n",
    "        self.fc2 = nn.Linear(128, 64)    # Second hidden layer: 128 input features, 64 output features\n",
    "        self.relu2 = nn.ReLU()           # Activation function for the second hidden layer\n",
    "        self.dropout2 = nn.Dropout(0.25) # Dropout for regularization\n",
    "        self.fc3 = nn.Linear(64, 10)     # Output layer: 64 input features, 10 output features (for digits 0-9)\n",
    "                                         # No softmax here, as nn.CrossEntropyLoss will apply it.\n",
    "\n",
    "    def forward(self, x):\n",
    "        x = self.flatten(x)    # Flatten the input image\n",
    "        x = self.fc1(x)\n",
    "        x = self.relu1(x)\n",
    "        x = self.dropout1(x)\n",
    "        x = self.fc2(x)\n",
    "        x = self.relu2(x)\n",
    "        x = self.dropout2(x)\n",
    "        x = self.fc3(x)        # Output raw scores (logits)\n",
    "        return x\n",
    "\n"
   ]
  },
  {
   "cell_type": "markdown",
   "metadata": {},
   "source": [
    "Specify a loss function and an optimizer, and instantiate the model.\n",
    "\n",
    "If you use a less common loss function, please note why you chose that loss function in a comment."
   ]
  },
  {
   "cell_type": "code",
   "execution_count": 8,
   "metadata": {},
   "outputs": [
    {
     "name": "stdout",
     "output_type": "stream",
     "text": [
      "Using device: cuda\n",
      "MNISTClassifier(\n",
      "  (flatten): Flatten(start_dim=1, end_dim=-1)\n",
      "  (fc1): Linear(in_features=784, out_features=128, bias=True)\n",
      "  (relu1): ReLU()\n",
      "  (dropout1): Dropout(p=0.25, inplace=False)\n",
      "  (fc2): Linear(in_features=128, out_features=64, bias=True)\n",
      "  (relu2): ReLU()\n",
      "  (dropout2): Dropout(p=0.25, inplace=False)\n",
      "  (fc3): Linear(in_features=64, out_features=10, bias=True)\n",
      ")\n"
     ]
    }
   ],
   "source": [
    "model = MNISTClassifier()\n",
    "\n",
    "# Loss function: CrossEntropyLoss is suitable for multi-class classification problems.\n",
    "# It combines LogSoftmax and NLLLoss in one single class.\n",
    "criterion = nn.CrossEntropyLoss()\n",
    "\n",
    "# Optimizer: Adam is a popular choice that often works well with default parameters.\n",
    "optimizer = optim.Adam(model.parameters(), lr=0.001)\n",
    "\n",
    "# Check for GPU availability\n",
    "device = torch.device(\"cuda\" if torch.cuda.is_available() else \"cpu\")\n",
    "model.to(device)\n",
    "print(f\"Using device: {device}\")\n",
    "print(model) "
   ]
  },
  {
   "cell_type": "markdown",
   "metadata": {},
   "source": [
    "## Running your Neural Network\n",
    "Use whatever method you like to train your neural network, and ensure you record the average loss at each epoch. \n",
    "Don't forget to use `torch.device()` and the `.to()` method for both your model and your data if you are using GPU!\n",
    "\n",
    "If you want to print your loss **during** each epoch, you can use the `enumerate` function and print the loss after a set number of batches. 250 batches works well for most people!"
   ]
  },
  {
   "cell_type": "code",
   "execution_count": 9,
   "metadata": {},
   "outputs": [
    {
     "name": "stdout",
     "output_type": "stream",
     "text": [
      "Starting training on device: cuda\n",
      "Epoch [1/15], Step [250/938], Batch Loss: 0.2510\n",
      "Epoch [1/15], Step [500/938], Batch Loss: 0.2736\n",
      "Epoch [1/15], Step [750/938], Batch Loss: 0.1904\n",
      "Epoch [1/15]: \n",
      "  Training Loss: 0.3657, Training Accuracy: 88.84%\n",
      "  Validation Loss: 0.1449, Validation Accuracy: 95.55%\n",
      "--------------------------------------------------\n",
      "Epoch [2/15], Step [250/938], Batch Loss: 0.0529\n",
      "Epoch [2/15], Step [500/938], Batch Loss: 0.1496\n",
      "Epoch [2/15], Step [750/938], Batch Loss: 0.1286\n",
      "Epoch [2/15]: \n",
      "  Training Loss: 0.1841, Training Accuracy: 94.50%\n",
      "  Validation Loss: 0.1085, Validation Accuracy: 96.66%\n",
      "--------------------------------------------------\n",
      "Epoch [3/15], Step [250/938], Batch Loss: 0.1277\n",
      "Epoch [3/15], Step [500/938], Batch Loss: 0.0717\n",
      "Epoch [3/15], Step [750/938], Batch Loss: 0.2850\n",
      "Epoch [3/15]: \n",
      "  Training Loss: 0.1459, Training Accuracy: 95.58%\n",
      "  Validation Loss: 0.0937, Validation Accuracy: 97.14%\n",
      "--------------------------------------------------\n",
      "Epoch [4/15], Step [250/938], Batch Loss: 0.1283\n",
      "Epoch [4/15], Step [500/938], Batch Loss: 0.0791\n",
      "Epoch [4/15], Step [750/938], Batch Loss: 0.2234\n",
      "Epoch [4/15]: \n",
      "  Training Loss: 0.1264, Training Accuracy: 96.17%\n",
      "  Validation Loss: 0.0925, Validation Accuracy: 97.24%\n",
      "--------------------------------------------------\n",
      "Epoch [5/15], Step [250/938], Batch Loss: 0.0592\n",
      "Epoch [5/15], Step [500/938], Batch Loss: 0.0755\n",
      "Epoch [5/15], Step [750/938], Batch Loss: 0.3262\n",
      "Epoch [5/15]: \n",
      "  Training Loss: 0.1153, Training Accuracy: 96.44%\n",
      "  Validation Loss: 0.0907, Validation Accuracy: 97.30%\n",
      "--------------------------------------------------\n",
      "Epoch [6/15], Step [250/938], Batch Loss: 0.0445\n",
      "Epoch [6/15], Step [500/938], Batch Loss: 0.2179\n",
      "Epoch [6/15], Step [750/938], Batch Loss: 0.0512\n",
      "Epoch [6/15]: \n",
      "  Training Loss: 0.1049, Training Accuracy: 96.84%\n",
      "  Validation Loss: 0.0831, Validation Accuracy: 97.45%\n",
      "--------------------------------------------------\n",
      "Epoch [7/15], Step [250/938], Batch Loss: 0.0791\n",
      "Epoch [7/15], Step [500/938], Batch Loss: 0.1022\n",
      "Epoch [7/15], Step [750/938], Batch Loss: 0.0790\n",
      "Epoch [7/15]: \n",
      "  Training Loss: 0.1001, Training Accuracy: 96.95%\n",
      "  Validation Loss: 0.0818, Validation Accuracy: 97.64%\n",
      "--------------------------------------------------\n",
      "Epoch [8/15], Step [250/938], Batch Loss: 0.2228\n",
      "Epoch [8/15], Step [500/938], Batch Loss: 0.1525\n",
      "Epoch [8/15], Step [750/938], Batch Loss: 0.0277\n",
      "Epoch [8/15]: \n",
      "  Training Loss: 0.0938, Training Accuracy: 97.22%\n",
      "  Validation Loss: 0.0826, Validation Accuracy: 97.67%\n",
      "--------------------------------------------------\n",
      "Epoch [9/15], Step [250/938], Batch Loss: 0.0835\n",
      "Epoch [9/15], Step [500/938], Batch Loss: 0.0340\n",
      "Epoch [9/15], Step [750/938], Batch Loss: 0.0712\n",
      "Epoch [9/15]: \n",
      "  Training Loss: 0.0883, Training Accuracy: 97.21%\n",
      "  Validation Loss: 0.0775, Validation Accuracy: 97.77%\n",
      "--------------------------------------------------\n",
      "Epoch [10/15], Step [250/938], Batch Loss: 0.2774\n",
      "Epoch [10/15], Step [500/938], Batch Loss: 0.0114\n",
      "Epoch [10/15], Step [750/938], Batch Loss: 0.0632\n",
      "Epoch [10/15]: \n",
      "  Training Loss: 0.0860, Training Accuracy: 97.36%\n",
      "  Validation Loss: 0.0788, Validation Accuracy: 97.75%\n",
      "--------------------------------------------------\n",
      "Epoch [11/15], Step [250/938], Batch Loss: 0.0384\n",
      "Epoch [11/15], Step [500/938], Batch Loss: 0.0409\n",
      "Epoch [11/15], Step [750/938], Batch Loss: 0.1051\n",
      "Epoch [11/15]: \n",
      "  Training Loss: 0.0826, Training Accuracy: 97.45%\n",
      "  Validation Loss: 0.0806, Validation Accuracy: 97.59%\n",
      "--------------------------------------------------\n",
      "Epoch [12/15], Step [250/938], Batch Loss: 0.0763\n",
      "Epoch [12/15], Step [500/938], Batch Loss: 0.1887\n",
      "Epoch [12/15], Step [750/938], Batch Loss: 0.0368\n",
      "Epoch [12/15]: \n",
      "  Training Loss: 0.0778, Training Accuracy: 97.56%\n",
      "  Validation Loss: 0.0765, Validation Accuracy: 97.77%\n",
      "--------------------------------------------------\n",
      "Epoch [13/15], Step [250/938], Batch Loss: 0.2222\n",
      "Epoch [13/15], Step [500/938], Batch Loss: 0.1570\n",
      "Epoch [13/15], Step [750/938], Batch Loss: 0.0415\n",
      "Epoch [13/15]: \n",
      "  Training Loss: 0.0770, Training Accuracy: 97.58%\n",
      "  Validation Loss: 0.0782, Validation Accuracy: 97.73%\n",
      "--------------------------------------------------\n",
      "Epoch [14/15], Step [250/938], Batch Loss: 0.0894\n",
      "Epoch [14/15], Step [500/938], Batch Loss: 0.0801\n",
      "Epoch [14/15], Step [750/938], Batch Loss: 0.0813\n",
      "Epoch [14/15]: \n",
      "  Training Loss: 0.0717, Training Accuracy: 97.72%\n",
      "  Validation Loss: 0.0716, Validation Accuracy: 97.75%\n",
      "--------------------------------------------------\n",
      "Epoch [15/15], Step [250/938], Batch Loss: 0.1447\n",
      "Epoch [15/15], Step [500/938], Batch Loss: 0.0942\n",
      "Epoch [15/15], Step [750/938], Batch Loss: 0.0250\n",
      "Epoch [15/15]: \n",
      "  Training Loss: 0.0723, Training Accuracy: 97.72%\n",
      "  Validation Loss: 0.0826, Validation Accuracy: 97.58%\n",
      "--------------------------------------------------\n",
      "Finished Training\n"
     ]
    }
   ],
   "source": [
    "## YOUR CODE HERE ##\n",
    "num_epochs = 15 # Can be adjusted\n",
    "train_losses_epoch = []\n",
    "train_accuracies_epoch = []\n",
    "validation_losses_epoch = []\n",
    "validation_accuracies_epoch = []\n",
    "\n",
    "print(f\"Starting training on device: {device}\")\n",
    "\n",
    "for epoch in range(num_epochs):\n",
    "    model.train()  # Set the model to training mode\n",
    "    running_train_loss = 0.0\n",
    "    correct_train_predictions = 0\n",
    "    total_train_samples = 0\n",
    "\n",
    "    for batch_idx, (images, labels) in enumerate(train_loader):\n",
    "        # Move tensors to the configured device\n",
    "        images, labels = images.to(device), labels.to(device)\n",
    "\n",
    "        # Zero the parameter gradients\n",
    "        optimizer.zero_grad()\n",
    "\n",
    "        # Forward pass\n",
    "        outputs = model(images)\n",
    "        loss = criterion(outputs, labels)\n",
    "\n",
    "        # Backward pass and optimize\n",
    "        loss.backward()\n",
    "        optimizer.step()\n",
    "\n",
    "        running_train_loss += loss.item() * images.size(0) # loss.item() is avg loss for batch\n",
    "\n",
    "        # Calculate training accuracy for the batch\n",
    "        _, predicted = torch.max(outputs.data, 1)\n",
    "        total_train_samples += labels.size(0)\n",
    "        correct_train_predictions += (predicted == labels).sum().item()\n",
    "\n",
    "        if (batch_idx + 1) % 250 == 0:\n",
    "            print(f'Epoch [{epoch+1}/{num_epochs}], Step [{batch_idx+1}/{len(train_loader)}], Batch Loss: {loss.item():.4f}')\n",
    "\n",
    "    epoch_train_loss = running_train_loss / len(train_loader.dataset)\n",
    "    epoch_train_accuracy = 100 * correct_train_predictions / total_train_samples\n",
    "    train_losses_epoch.append(epoch_train_loss)\n",
    "    train_accuracies_epoch.append(epoch_train_accuracy)\n",
    "\n",
    "    # Validation loop (using the test_loader as a validation set)\n",
    "    model.eval()  # Set the model to evaluation mode\n",
    "    running_validation_loss = 0.0\n",
    "    correct_validation_predictions = 0\n",
    "    total_validation_samples = 0\n",
    "    with torch.no_grad(): # Disable gradient calculations for validation\n",
    "        for images_val, labels_val in test_loader:\n",
    "            images_val, labels_val = images_val.to(device), labels_val.to(device)\n",
    "            outputs_val = model(images_val)\n",
    "            loss_val = criterion(outputs_val, labels_val)\n",
    "            running_validation_loss += loss_val.item() * images_val.size(0)\n",
    "\n",
    "            _, predicted_val = torch.max(outputs_val.data, 1)\n",
    "            total_validation_samples += labels_val.size(0)\n",
    "            correct_validation_predictions += (predicted_val == labels_val).sum().item()\n",
    "\n",
    "    epoch_validation_loss = running_validation_loss / len(test_loader.dataset)\n",
    "    epoch_validation_accuracy = 100 * correct_validation_predictions / total_validation_samples\n",
    "    validation_losses_epoch.append(epoch_validation_loss)\n",
    "    validation_accuracies_epoch.append(epoch_validation_accuracy)\n",
    "\n",
    "    print(f\"Epoch [{epoch+1}/{num_epochs}]: \\n\"\n",
    "          f\"  Training Loss: {epoch_train_loss:.4f}, Training Accuracy: {epoch_train_accuracy:.2f}%\\n\"\n",
    "          f\"  Validation Loss: {epoch_validation_loss:.4f}, Validation Accuracy: {epoch_validation_accuracy:.2f}%\")\n",
    "    print(\"-\" * 50)\n",
    "\n",
    "print('Finished Training')"
   ]
  },
  {
   "cell_type": "markdown",
   "metadata": {},
   "source": [
    "Plot the training loss (and validation loss/accuracy, if recorded)."
   ]
  },
  {
   "cell_type": "code",
   "execution_count": 10,
   "metadata": {},
   "outputs": [
    {
     "data": {
      "image/png": "[encoded data removed]",
      "text/plain": [
       "<Figure size 864x360 with 2 Axes>"
      ]
     },
     "metadata": {
      "needs_background": "light"
     },
     "output_type": "display_data"
    }
   ],
   "source": [
    "## YOUR CODE HERE ##\n",
    "# Plotting the training and validation loss\n",
    "plt.figure(figsize=(12, 5))\n",
    "\n",
    "plt.subplot(1, 2, 1)\n",
    "plt.plot(range(1, num_epochs + 1), train_losses_epoch, label='Training Loss')\n",
    "plt.plot(range(1, num_epochs + 1), validation_losses_epoch, label='Validation Loss')\n",
    "plt.xlabel('Epoch')\n",
    "plt.ylabel('Loss')\n",
    "plt.title('Training and Validation Loss Over Epochs')\n",
    "plt.legend()\n",
    "plt.grid(True)\n",
    "\n",
    "# Plotting the training and validation accuracy\n",
    "plt.subplot(1, 2, 2)\n",
    "plt.plot(range(1, num_epochs + 1), train_accuracies_epoch, label='Training Accuracy')\n",
    "plt.plot(range(1, num_epochs + 1), validation_accuracies_epoch, label='Validation Accuracy')\n",
    "plt.xlabel('Epoch')\n",
    "plt.ylabel('Accuracy (%)')\n",
    "plt.title('Training and Validation Accuracy Over Epochs')\n",
    "plt.legend()\n",
    "plt.grid(True)\n",
    "\n",
    "plt.tight_layout()\n",
    "plt.show()"
   ]
  },
  {
   "cell_type": "markdown",
   "metadata": {},
   "source": [
    "## Testing your model\n",
    "Using the previously created `DataLoader` for the test set, compute the percentage of correct predictions using the highest probability prediction. \n",
    "\n",
    "If your accuracy is over 90%, great work, but see if you can push a bit further! \n",
    "If your accuracy is under 90%, you'll need to make improvements.\n",
    "Go back and check your model architecture, loss function, and optimizer to make sure they're appropriate for an image classification task."
   ]
  },
  {
   "cell_type": "code",
   "execution_count": 11,
   "metadata": {},
   "outputs": [
    {
     "name": "stdout",
     "output_type": "stream",
     "text": [
      "Final Test Loss of the trained model: 0.0826\n",
      "Final Test Accuracy of the trained model on the 10000 test images: 97.58%\n",
      "\n",
      "Great work! Model accuracy is above 90%.\n"
     ]
    }
   ],
   "source": [
    "## YOUR CODE HERE ##\n",
    "model.eval()  # Set the model to evaluation mode\n",
    "correct_test = 0\n",
    "total_test = 0\n",
    "test_loss_final = 0.0\n",
    "\n",
    "with torch.no_grad():  # Disable gradient calculations during testing\n",
    "    for images, labels in test_loader:\n",
    "        images, labels = images.to(device), labels.to(device)\n",
    "        outputs = model(images)\n",
    "        loss = criterion(outputs, labels)\n",
    "        test_loss_final += loss.item() * images.size(0)\n",
    "        _, predicted = torch.max(outputs.data, 1)\n",
    "        total_test += labels.size(0)\n",
    "        correct_test += (predicted == labels).sum().item()\n",
    "\n",
    "final_test_accuracy = 100 * correct_test / total_test\n",
    "final_test_loss = test_loss_final / len(test_loader.dataset)\n",
    "\n",
    "print(f'Final Test Loss of the trained model: {final_test_loss:.4f}')\n",
    "print(f'Final Test Accuracy of the trained model on the {total_test} test images: {final_test_accuracy:.2f}%')\n",
    "\n",
    "if final_test_accuracy < 90:\n",
    "    print(\"\\nModel accuracy is below 90%. Consider the following improvements:\")\n",
    "    print(\"- Increase the number of epochs.\")\n",
    "    print(\"- Try a different learning rate (smaller or larger with a scheduler).\")\n",
    "    print(\"- Experiment with different optimizers (e.g., SGD with momentum, RMSprop).\")\n",
    "    print(\"- Adjust the model architecture (e.g., number of layers, number of neurons per layer, different activation functions).\")\n",
    "    print(\"- Modify dropout rates (increase if overfitting, decrease if underfitting).\")\n",
    "    print(\"- Implement learning rate scheduling.\")\n",
    "    print(\"- Consider more advanced data augmentation if not already used (though less critical for MNIST).\")\n",
    "else:\n",
    "    print(\"\\nGreat work! Model accuracy is above 90%.\")"
   ]
  },
  {
   "cell_type": "markdown",
   "metadata": {},
   "source": [
    "## Improving your model\n",
    "\n",
    "Once your model is done training, try tweaking your hyperparameters and training again below to improve your accuracy on the test set!"
   ]
  },
  {
   "cell_type": "code",
   "execution_count": 12,
   "metadata": {},
   "outputs": [
    {
     "name": "stdout",
     "output_type": "stream",
     "text": [
      "\n",
      "--- Starting Training for Model v2 ---\n",
      "Optimizer: SGD with momentum, LR=0.01, Scheduler: StepLR\n",
      "Number of epochs: 20\n",
      "Epoch [1/20]: \n",
      "  Training Loss: 0.4187, Training Accuracy: 87.35%\n",
      "  Validation Loss: 0.1476, Validation Accuracy: 95.53% (LR: 1.0e-02)\n",
      "--------------------------------------------------\n",
      "Epoch [2/20]: \n",
      "  Training Loss: 0.1891, Training Accuracy: 94.39%\n",
      "  Validation Loss: 0.1101, Validation Accuracy: 96.60% (LR: 1.0e-02)\n",
      "--------------------------------------------------\n",
      "Epoch [3/20]: \n",
      "  Training Loss: 0.1498, Training Accuracy: 95.52%\n",
      "  Validation Loss: 0.0895, Validation Accuracy: 97.20% (LR: 1.0e-02)\n",
      "--------------------------------------------------\n",
      "Epoch [4/20]: \n",
      "  Training Loss: 0.1290, Training Accuracy: 96.14%\n",
      "  Validation Loss: 0.0914, Validation Accuracy: 97.10% (LR: 1.0e-02)\n",
      "--------------------------------------------------\n",
      "Epoch [5/20]: \n",
      "  Training Loss: 0.1142, Training Accuracy: 96.62%\n",
      "  Validation Loss: 0.0889, Validation Accuracy: 97.30% (LR: 1.0e-02)\n",
      "--------------------------------------------------\n",
      "Epoch [6/20]: \n",
      "  Training Loss: 0.1056, Training Accuracy: 96.75%\n",
      "  Validation Loss: 0.0802, Validation Accuracy: 97.57% (LR: 1.0e-02)\n",
      "--------------------------------------------------\n",
      "Epoch [7/20]: \n",
      "  Training Loss: 0.0943, Training Accuracy: 97.17%\n",
      "  Validation Loss: 0.0714, Validation Accuracy: 97.73% (LR: 1.0e-03)\n",
      "--------------------------------------------------\n",
      "Epoch [8/20]: \n",
      "  Training Loss: 0.0733, Training Accuracy: 97.72%\n",
      "  Validation Loss: 0.0660, Validation Accuracy: 97.90% (LR: 1.0e-03)\n",
      "--------------------------------------------------\n",
      "Epoch [9/20]: \n",
      "  Training Loss: 0.0700, Training Accuracy: 97.89%\n",
      "  Validation Loss: 0.0646, Validation Accuracy: 98.01% (LR: 1.0e-03)\n",
      "--------------------------------------------------\n",
      "Epoch [10/20]: \n",
      "  Training Loss: 0.0682, Training Accuracy: 98.00%\n",
      "  Validation Loss: 0.0642, Validation Accuracy: 98.02% (LR: 1.0e-03)\n",
      "--------------------------------------------------\n",
      "Epoch [11/20]: \n",
      "  Training Loss: 0.0650, Training Accuracy: 98.03%\n",
      "  Validation Loss: 0.0641, Validation Accuracy: 98.08% (LR: 1.0e-03)\n",
      "--------------------------------------------------\n",
      "Epoch [12/20]: \n",
      "  Training Loss: 0.0649, Training Accuracy: 98.01%\n",
      "  Validation Loss: 0.0638, Validation Accuracy: 98.07% (LR: 1.0e-03)\n",
      "--------------------------------------------------\n",
      "Epoch [13/20]: \n",
      "  Training Loss: 0.0620, Training Accuracy: 98.04%\n",
      "  Validation Loss: 0.0631, Validation Accuracy: 98.05% (LR: 1.0e-03)\n",
      "--------------------------------------------------\n",
      "Epoch [14/20]: \n",
      "  Training Loss: 0.0617, Training Accuracy: 98.08%\n",
      "  Validation Loss: 0.0628, Validation Accuracy: 98.00% (LR: 1.0e-04)\n",
      "--------------------------------------------------\n",
      "Epoch [15/20]: \n",
      "  Training Loss: 0.0592, Training Accuracy: 98.18%\n",
      "  Validation Loss: 0.0626, Validation Accuracy: 98.00% (LR: 1.0e-04)\n",
      "--------------------------------------------------\n",
      "Epoch [16/20]: \n",
      "  Training Loss: 0.0605, Training Accuracy: 98.23%\n",
      "  Validation Loss: 0.0627, Validation Accuracy: 98.00% (LR: 1.0e-04)\n",
      "--------------------------------------------------\n",
      "Epoch [17/20]: \n",
      "  Training Loss: 0.0586, Training Accuracy: 98.19%\n",
      "  Validation Loss: 0.0626, Validation Accuracy: 98.00% (LR: 1.0e-04)\n",
      "--------------------------------------------------\n",
      "Epoch [18/20]: \n",
      "  Training Loss: 0.0592, Training Accuracy: 98.18%\n",
      "  Validation Loss: 0.0625, Validation Accuracy: 98.00% (LR: 1.0e-04)\n",
      "--------------------------------------------------\n",
      "Epoch [19/20]: \n",
      "  Training Loss: 0.0580, Training Accuracy: 98.22%\n",
      "  Validation Loss: 0.0625, Validation Accuracy: 98.01% (LR: 1.0e-04)\n",
      "--------------------------------------------------\n",
      "Epoch [20/20]: \n",
      "  Training Loss: 0.0568, Training Accuracy: 98.27%\n",
      "  Validation Loss: 0.0626, Validation Accuracy: 98.04% (LR: 1.0e-04)\n",
      "--------------------------------------------------\n",
      "Finished Training Model v2\n",
      "\n",
      "Final Test Loss of Model_v2: 0.0626\n",
      "Final Test Accuracy of Model_v2 on the 10000 test images: 98.04%\n"
     ]
    },
    {
     "data": {
      "image/png": "[encoded data removed]",
      "text/plain": [
       "<Figure size 864x360 with 2 Axes>"
      ]
     },
     "metadata": {
      "needs_background": "light"
     },
     "output_type": "display_data"
    }
   ],
   "source": [
    "## YOUR CODE HERE ##\n",
    "# Improving your model\n",
    "\n",
    "# Let's define a new model instance or re-initialize the existing one for a new training run\n",
    "# We can try a different optimizer, learning rate, or more epochs.\n",
    "# For this example, let's try SGD with momentum and a slightly adjusted learning rate,\n",
    "# and increase epochs. We will also keep the dropout layers from the previous model definition.\n",
    "\n",
    "model_v2 = MNISTClassifier().to(device) # New instance of the same architecture\n",
    "\n",
    "# Loss function (can be the same)\n",
    "criterion_v2 = nn.CrossEntropyLoss()\n",
    "\n",
    "# Optimizer: Try SGD with momentum\n",
    "optimizer_v2 = optim.SGD(model_v2.parameters(), lr=0.01, momentum=0.9)\n",
    "# Alternatively, you could try Adam with a smaller learning rate:\n",
    "# optimizer_v2 = optim.Adam(model_v2.parameters(), lr=0.0005)\n",
    "\n",
    "# Learning rate scheduler (optional but often helpful)\n",
    "# This will reduce the learning rate by a factor of 0.1 every 7 epochs\n",
    "scheduler_v2 = torch.optim.lr_scheduler.StepLR(optimizer_v2, step_size=7, gamma=0.1)\n",
    "\n",
    "\n",
    "num_epochs_v2 = 20 # Try more epochs\n",
    "train_losses_epoch_v2 = []\n",
    "train_accuracies_epoch_v2 = []\n",
    "validation_losses_epoch_v2 = []\n",
    "validation_accuracies_epoch_v2 = []\n",
    "\n",
    "print(f\"\\n--- Starting Training for Model v2 ---\")\n",
    "print(f\"Optimizer: SGD with momentum, LR=0.01, Scheduler: StepLR\")\n",
    "print(f\"Number of epochs: {num_epochs_v2}\")\n",
    "\n",
    "for epoch in range(num_epochs_v2):\n",
    "    model_v2.train()\n",
    "    running_train_loss_v2 = 0.0\n",
    "    correct_train_predictions_v2 = 0\n",
    "    total_train_samples_v2 = 0\n",
    "\n",
    "    for batch_idx, (images, labels) in enumerate(train_loader):\n",
    "        images, labels = images.to(device), labels.to(device)\n",
    "        optimizer_v2.zero_grad()\n",
    "        outputs = model_v2(images)\n",
    "        loss = criterion_v2(outputs, labels)\n",
    "        loss.backward()\n",
    "        optimizer_v2.step()\n",
    "\n",
    "        running_train_loss_v2 += loss.item() * images.size(0)\n",
    "        _, predicted = torch.max(outputs.data, 1)\n",
    "        total_train_samples_v2 += labels.size(0)\n",
    "        correct_train_predictions_v2 += (predicted == labels).sum().item()\n",
    "\n",
    "    epoch_train_loss_v2 = running_train_loss_v2 / len(train_loader.dataset)\n",
    "    epoch_train_accuracy_v2 = 100 * correct_train_predictions_v2 / total_train_samples_v2\n",
    "    train_losses_epoch_v2.append(epoch_train_loss_v2)\n",
    "    train_accuracies_epoch_v2.append(epoch_train_accuracy_v2)\n",
    "\n",
    "    # Validation loop for model_v2\n",
    "    model_v2.eval()\n",
    "    running_validation_loss_v2 = 0.0\n",
    "    correct_validation_predictions_v2 = 0\n",
    "    total_validation_samples_v2 = 0\n",
    "    with torch.no_grad():\n",
    "        for images_val, labels_val in test_loader:\n",
    "            images_val, labels_val = images_val.to(device), labels_val.to(device)\n",
    "            outputs_val = model_v2(images_val)\n",
    "            loss_val = criterion_v2(outputs_val, labels_val)\n",
    "            running_validation_loss_v2 += loss_val.item() * images_val.size(0)\n",
    "            _, predicted_val = torch.max(outputs_val.data, 1)\n",
    "            total_validation_samples_v2 += labels_val.size(0)\n",
    "            correct_validation_predictions_v2 += (predicted_val == labels_val).sum().item()\n",
    "\n",
    "    epoch_validation_loss_v2 = running_validation_loss_v2 / len(test_loader.dataset)\n",
    "    epoch_validation_accuracy_v2 = 100 * correct_validation_predictions_v2 / total_validation_samples_v2\n",
    "    validation_losses_epoch_v2.append(epoch_validation_loss_v2)\n",
    "    validation_accuracies_epoch_v2.append(epoch_validation_accuracy_v2)\n",
    "    \n",
    "    # Step the scheduler\n",
    "    scheduler_v2.step()\n",
    "\n",
    "    print(f\"Epoch [{epoch+1}/{num_epochs_v2}]: \\n\"\n",
    "          f\"  Training Loss: {epoch_train_loss_v2:.4f}, Training Accuracy: {epoch_train_accuracy_v2:.2f}%\\n\"\n",
    "          f\"  Validation Loss: {epoch_validation_loss_v2:.4f}, Validation Accuracy: {epoch_validation_accuracy_v2:.2f}% \"\n",
    "          f\"(LR: {optimizer_v2.param_groups[0]['lr']:.1e})\")\n",
    "    print(\"-\" * 50)\n",
    "\n",
    "print('Finished Training Model v2')\n",
    "\n",
    "# Final test for model_v2\n",
    "model_v2.eval()\n",
    "correct_test_v2 = 0\n",
    "total_test_v2 = 0\n",
    "test_loss_final_v2 = 0.0\n",
    "with torch.no_grad():\n",
    "    for images, labels in test_loader:\n",
    "        images, labels = images.to(device), labels.to(device)\n",
    "        outputs = model_v2(images)\n",
    "        loss = criterion_v2(outputs, labels)\n",
    "        test_loss_final_v2 += loss.item() * images.size(0)\n",
    "        _, predicted = torch.max(outputs.data, 1)\n",
    "        total_test_v2 += labels.size(0)\n",
    "        correct_test_v2 += (predicted == labels).sum().item()\n",
    "\n",
    "final_test_accuracy_v2 = 100 * correct_test_v2 / total_test_v2\n",
    "final_test_loss_v2 = test_loss_final_v2 / len(test_loader.dataset)\n",
    "print(f'\\nFinal Test Loss of Model_v2: {final_test_loss_v2:.4f}')\n",
    "print(f'Final Test Accuracy of Model_v2 on the {total_test_v2} test images: {final_test_accuracy_v2:.2f}%')\n",
    "\n",
    "\n",
    "# Plotting for model_v2\n",
    "plt.figure(figsize=(12, 5))\n",
    "plt.subplot(1, 2, 1)\n",
    "plt.plot(range(1, num_epochs_v2 + 1), train_losses_epoch_v2, label='Model v2 Training Loss')\n",
    "plt.plot(range(1, num_epochs_v2 + 1), validation_losses_epoch_v2, label='Model v2 Validation Loss')\n",
    "plt.xlabel('Epoch')\n",
    "plt.ylabel('Loss')\n",
    "plt.title('Model v2 Training and Validation Loss')\n",
    "plt.legend()\n",
    "plt.grid(True)\n",
    "\n",
    "plt.subplot(1, 2, 2)\n",
    "plt.plot(range(1, num_epochs_v2 + 1), train_accuracies_epoch_v2, label='Model v2 Training Accuracy')\n",
    "plt.plot(range(1, num_epochs_v2 + 1), validation_accuracies_epoch_v2, label='Model v2 Validation Accuracy')\n",
    "plt.xlabel('Epoch')\n",
    "plt.ylabel('Accuracy (%)')\n",
    "plt.title('Model v2 Training and Validation Accuracy')\n",
    "plt.legend()\n",
    "plt.grid(True)\n",
    "\n",
    "plt.tight_layout()\n",
    "plt.show()"
   ]
  },
  {
   "cell_type": "markdown",
   "metadata": {},
   "source": [
    "## Saving your model\n",
    "Using `torch.save`, save your model for future loading."
   ]
  },
  {
   "cell_type": "code",
   "execution_count": 13,
   "metadata": {},
   "outputs": [
    {
     "name": "stdout",
     "output_type": "stream",
     "text": [
      "Model v2 performed better with accuracy: 98.04%\n",
      "Saved the model with 98.04% accuracy to 'mnist_classifier_best_model.pth'\n"
     ]
    }
   ],
   "source": [
    "## YOUR CODE HERE ##\n",
    "# Saving your model\n",
    "# We'll save the model with the higher final test accuracy.\n",
    "\n",
    "model_to_save = None\n",
    "saved_model_accuracy = 0.0\n",
    "\n",
    "if 'final_test_accuracy_v2' in locals() and final_test_accuracy_v2 > final_test_accuracy:\n",
    "    model_to_save = model_v2\n",
    "    saved_model_accuracy = final_test_accuracy_v2\n",
    "    print(f\"Model v2 performed better with accuracy: {final_test_accuracy_v2:.2f}%\")\n",
    "else:\n",
    "    model_to_save = model\n",
    "    saved_model_accuracy = final_test_accuracy\n",
    "    print(f\"Original model performed better (or equally) with accuracy: {final_test_accuracy:.2f}%\")\n",
    "\n",
    "if model_to_save:\n",
    "    # It's generally recommended to save the model's state_dict rather than the entire model.\n",
    "    torch.save(model_to_save.state_dict(), 'mnist_classifier_best_model.pth')\n",
    "    print(f\"Saved the model with {saved_model_accuracy:.2f}% accuracy to 'mnist_classifier_best_model.pth'\")\n",
    "else:\n",
    "    print(\"No model was trained successfully to save.\")\n",
    "\n"
   ]
  },
  {
   "cell_type": "code",
   "execution_count": null,
   "metadata": {},
   "outputs": [],
   "source": []
  }
 ],
 "metadata": {
  "kernelspec": {
   "display_name": "Python 3",
   "language": "python",
   "name": "python3"
  },
  "language_info": {
   "codemirror_mode": {
    "name": "ipython",
    "version": 3
   },
   "file_extension": ".py",
   "mimetype": "text/x-python",
   "name": "python",
   "nbconvert_exporter": "python",
   "pygments_lexer": "ipython3",
   "version": "3.7.6"
  }
 },
 "nbformat": 4,
 "nbformat_minor": 4
}
